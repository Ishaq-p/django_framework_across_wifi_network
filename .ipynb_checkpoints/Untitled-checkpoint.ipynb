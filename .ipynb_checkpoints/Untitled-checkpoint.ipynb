{
 "cells": [
  {
   "cell_type": "markdown",
   "id": "802fe834",
   "metadata": {},
   "source": [
    "<style>\n",
    "  .left-align {\n",
    "    float: right;\n",
    "  }\n",
    "</style>\n",
    "\n",
    "<a href=\"#\" class=\"left-align\">Link Text</a>\n"
   ]
  },
  {
   "cell_type": "markdown",
   "id": "25a8a84e",
   "metadata": {},
   "source": [
    "<style>\n",
    "  .left-align {\n",
    "    display: flex;\n",
    "    justify-content: flex-start;\n",
    "  }\n",
    "</style>\n",
    "\n",
    "<a href=\"#\" class=\"left-align\">Link Text</a>\n"
   ]
  },
  {
   "cell_type": "markdown",
   "id": "72043d06",
   "metadata": {},
   "source": [
    "<style>\n",
    "  .left-align {\n",
    "    display: grid;\n",
    "    justify-items: start;\n",
    "  }\n",
    "</style>\n",
    "\n",
    "<a href=\"#\" class=\"left-align\">Link Text</a>\n"
   ]
  },
  {
   "cell_type": "code",
   "execution_count": null,
   "id": "ca63d28c",
   "metadata": {},
   "outputs": [],
   "source": []
  },
  {
   "cell_type": "code",
   "execution_count": null,
   "id": "0506fbae",
   "metadata": {},
   "outputs": [],
   "source": []
  },
  {
   "cell_type": "markdown",
   "id": "95e33daf",
   "metadata": {},
   "source": [
    "<h1>File Uploaded Successfully!</h1>\n",
    "\n",
    "    \n",
    "   <img src=\"Snapchat-269265218.jpg\" alt=\"{{ uploaded_file }}\">\n"
   ]
  },
  {
   "cell_type": "code",
   "execution_count": 10,
   "id": "d9def3df",
   "metadata": {},
   "outputs": [],
   "source": [
    "import matplotlib.pyplot as plt\n",
    "import numpy as np"
   ]
  },
  {
   "cell_type": "code",
   "execution_count": 31,
   "id": "60c38b8c",
   "metadata": {},
   "outputs": [],
   "source": [
    "def f(x):\n",
    "    return x**3 + 9*x**2 - 10*x - 158"
   ]
  },
  {
   "cell_type": "code",
   "execution_count": 32,
   "id": "eba81297",
   "metadata": {},
   "outputs": [],
   "source": [
    "import numpy as np\n",
    "# from rounding import rounding as rnd        # rounding.py is in the same folder, its pupose is to round according to FPA\n",
    "\n",
    "\n",
    "# defining the p_(a,b) , the midpoint of a and b\n",
    "def p_(a,b):\n",
    "    return (a+b)/2\n",
    "\n",
    "# defining the sign of f(a)*f(p), in order to specify whihc side to give the p\n",
    "def sign_(a,p):\n",
    "    if f_(a)*f_(p) > 0:\n",
    "        return True,'+'\n",
    "    elif f_(a)*f_(p)<0:\n",
    "        return False, '-'\n",
    "\n",
    "# defining the RE, Relative Error\n",
    "def RE_(p1, p0):\n",
    "    return abs((p1 - p0)/p1)\n",
    "\n",
    "# custom printing function\n",
    "# def printing(a, p, b, sign, RE):\n",
    "#     a = rnd(round(a, 10), 7)[-1]\n",
    "#     b = rnd(round(b, 10), 7)[-1]\n",
    "#     p = rnd(round(p, 10), 7)[-1]\n",
    "#     # RE = round(RE, 10)        # since the RE gets so small that the round() takes more the starting zeros so we all we left with is some floats\n",
    "#     print(a,\"\\t||\\t\", p,\"\\t||\\t\", b,\"\\t||\\t\",sign,\"\\t||\\t\", RE)\n",
    "\n",
    "\n",
    "\n",
    "# main function\n",
    "def bisect(a, b, p0, f, tol=1e-3):\n",
    "    result=[]\n",
    "\n",
    "    \"\"\"Find root of f(x) = 0 on interval [a,b] to within tolerance tol.\"\"\"\n",
    "    if f(a)*f(b) > 0:\n",
    "        raise ValueError(\"f(a) and f(b) must have opposite signs\")\n",
    "    \n",
    "    while RE_(b, a) > tol:\n",
    "        p1 = p_(a,b)\n",
    "        sign = sign_(a,p1)\n",
    "        RE = RE_(p1,p0)\n",
    "\n",
    "        # printing(a, p1, b, sign[1], RE)\n",
    "        result.append((a, p1, b, sign[1], RE))\n",
    "\n",
    "        if sign[0]:\n",
    "            a = p1\n",
    "        else:\n",
    "            b = p1\n",
    "        p0 = p1\n",
    "    return result"
   ]
  },
  {
   "cell_type": "code",
   "execution_count": 33,
   "id": "dc754c6f",
   "metadata": {
    "scrolled": true
   },
   "outputs": [
    {
     "data": {
      "text/plain": [
       "[(-8, -7.5, -7, '-', 0.06666666666666667),\n",
       " (-8, -7.75, -7.5, '+', 0.03225806451612903),\n",
       " (-7.75, -7.625, -7.5, '+', 0.01639344262295082),\n",
       " (-7.625, -7.5625, -7.5, '+', 0.008264462809917356),\n",
       " (-7.5625, -7.53125, -7.5, '-', 0.004149377593360996),\n",
       " (-7.5625, -7.546875, -7.53125, '-', 0.002070393374741201),\n",
       " (-7.5625, -7.5546875, -7.546875, '-', 0.001034126163391934),\n",
       " (-7.5625, -7.55859375, -7.5546875, '+', 0.0005167958656330749)]"
      ]
     },
     "execution_count": 33,
     "metadata": {},
     "output_type": "execute_result"
    }
   ],
   "source": [
    "bisect(-8,-7, -8, f)"
   ]
  },
  {
   "cell_type": "code",
   "execution_count": null,
   "id": "219a9b09",
   "metadata": {},
   "outputs": [],
   "source": []
  },
  {
   "cell_type": "code",
   "execution_count": 34,
   "id": "e7e1ca0b",
   "metadata": {},
   "outputs": [
    {
     "name": "stdout",
     "output_type": "stream",
     "text": [
      "0.025536 \t||\t 0 \t||\t 0.025536\n",
      "-0.0336 \t||\t 0.0009226875 \t||\t -0.03267731\n",
      "0.048 \t||\t -0.001180723 \t||\t 0.04681928\n",
      "-0.08 \t||\t 0.001691712 \t||\t -0.07830829\n",
      "0.2 \t||\t -0.002829499 \t||\t 0.1971705\n",
      "1 \t||\t 0.007124325 \t||\t 1.007124\n"
     ]
    }
   ],
   "source": [
    "import numpy as np\n",
    "from rounding import rounding as rnd        # rounding.py is in the same folder, its pupose is to round according to FPA\n",
    "\n",
    "\n",
    "\n",
    "# defining the function\n",
    "def fun_(x):\n",
    "    return x**6 + 2*x**5 + 3*x**4 + 4*x**3 + 5*x**2 + 6*x -7\n",
    "    #return 1 + x/5 - (2/25)*x**2 + (6/125)*x**3 - (21/625)*x**4 + (399/15625)*x**5\n",
    "\n",
    "\n",
    "# custom printing function\n",
    "def printing(a, alpb, b):\n",
    "    a = round(a, 10)\n",
    "    if alpb == 0:       # if the value is 0 and i round it it will return 1, so therefore i have to check if it is 0 and if it is i will return 0\n",
    "        alpb = 0\n",
    "    else:\n",
    "        alpb= round(alpb, 10)\n",
    "    b = round(b, 10)\n",
    "    # RE = round(RE, 10)        # since the RE gets so small that the round() takes more the starting zeros so we all we left with is some floats\n",
    "    print(a,\"\\t||\\t\", alpb,\"\\t||\\t\", b)\n",
    "\n",
    "\n",
    "\n",
    "# main function\n",
    "def horners(alpha):\n",
    "    coef = [399/15625, -21/625, 6/125, -2/25, 1/5, 1]\n",
    "    b0 = 0\n",
    "    # print(coef[0],\"\\t||\\t\", 0,\"\\t||\\t\", b0)\n",
    "\n",
    "    for a in coef:\n",
    "        alpb = rnd(alpha*b0, 7)[-1]\n",
    "        b = rnd(a + alpb, 7)[-1]\n",
    "        printing(a, alpb, b)\n",
    "        b0 = b\n",
    "        \n",
    "        \n",
    "horners(37/1024)\n",
    "\n"
   ]
  },
  {
   "cell_type": "code",
   "execution_count": null,
   "id": "6cc719c2",
   "metadata": {},
   "outputs": [],
   "source": []
  }
 ],
 "metadata": {
  "kernelspec": {
   "display_name": "Python 3 (ipykernel)",
   "language": "python",
   "name": "python3"
  },
  "language_info": {
   "codemirror_mode": {
    "name": "ipython",
    "version": 3
   },
   "file_extension": ".py",
   "mimetype": "text/x-python",
   "name": "python",
   "nbconvert_exporter": "python",
   "pygments_lexer": "ipython3",
   "version": "3.10.6"
  }
 },
 "nbformat": 4,
 "nbformat_minor": 5
}
