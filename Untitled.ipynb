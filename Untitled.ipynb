{
 "cells": [
  {
   "cell_type": "markdown",
   "id": "802fe834",
   "metadata": {},
   "source": [
    "<style>\n",
    "  .left-align {\n",
    "    float: right;\n",
    "  }\n",
    "</style>\n",
    "\n",
    "<a href=\"#\" class=\"left-align\">Link Text</a>\n"
   ]
  },
  {
   "cell_type": "markdown",
   "id": "25a8a84e",
   "metadata": {},
   "source": [
    "<style>\n",
    "  .left-align {\n",
    "    display: flex;\n",
    "    justify-content: flex-start;\n",
    "  }\n",
    "</style>\n",
    "\n",
    "<a href=\"#\" class=\"left-align\">Link Text</a>\n"
   ]
  },
  {
   "cell_type": "markdown",
   "id": "72043d06",
   "metadata": {},
   "source": [
    "<style>\n",
    "  .left-align {\n",
    "    display: grid;\n",
    "    justify-items: start;\n",
    "  }\n",
    "</style>\n",
    "\n",
    "<a href=\"#\" class=\"left-align\">Link Text</a>\n"
   ]
  },
  {
   "cell_type": "code",
   "execution_count": null,
   "id": "ca63d28c",
   "metadata": {},
   "outputs": [],
   "source": []
  },
  {
   "cell_type": "code",
   "execution_count": null,
   "id": "0506fbae",
   "metadata": {},
   "outputs": [],
   "source": []
  },
  {
   "cell_type": "markdown",
   "id": "95e33daf",
   "metadata": {},
   "source": [
    "<h1>File Uploaded Successfully!</h1>\n",
    "\n",
    "    \n",
    "   <img src=\"Snapchat-269265218.jpg\" alt=\"{{ uploaded_file }}\">\n"
   ]
  },
  {
   "cell_type": "code",
   "execution_count": 1,
   "id": "3bb400d0",
   "metadata": {},
   "outputs": [],
   "source": [
    "import matplotlib.pyplot as plt\n",
    "import numpy as np"
   ]
  },
  {
   "cell_type": "code",
   "execution_count": 31,
   "id": "942d1312",
   "metadata": {},
   "outputs": [],
   "source": [
    "def f(x):\n",
    "    return x**3 + 9*x**2 - 10*x - 158"
   ]
  },
  {
   "cell_type": "code",
   "execution_count": 32,
   "id": "eba81297",
   "metadata": {},
   "outputs": [],
   "source": [
    "import numpy as np\n",
    "# from rounding import rounding as rnd        # rounding.py is in the same folder, its pupose is to round according to FPA\n",
    "\n",
    "\n",
    "# defining the p_(a,b) , the midpoint of a and b\n",
    "def p_(a,b):\n",
    "    return (a+b)/2\n",
    "\n",
    "# defining the sign of f(a)*f(p), in order to specify whihc side to give the p\n",
    "def sign_(a,p):\n",
    "    if f_(a)*f_(p) > 0:\n",
    "        return True,'+'\n",
    "    elif f_(a)*f_(p)<0:\n",
    "        return False, '-'\n",
    "\n",
    "# defining the RE, Relative Error\n",
    "def RE_(p1, p0):\n",
    "    return abs((p1 - p0)/p1)\n",
    "\n",
    "# custom printing function\n",
    "# def printing(a, p, b, sign, RE):\n",
    "#     a = rnd(round(a, 10), 7)[-1]\n",
    "#     b = rnd(round(b, 10), 7)[-1]\n",
    "#     p = rnd(round(p, 10), 7)[-1]\n",
    "#     # RE = round(RE, 10)        # since the RE gets so small that the round() takes more the starting zeros so we all we left with is some floats\n",
    "#     print(a,\"\\t||\\t\", p,\"\\t||\\t\", b,\"\\t||\\t\",sign,\"\\t||\\t\", RE)\n",
    "\n",
    "\n",
    "\n",
    "# main function\n",
    "def bisect(a, b, p0, f, tol=1e-3):\n",
    "    result=[]\n",
    "\n",
    "    \"\"\"Find root of f(x) = 0 on interval [a,b] to within tolerance tol.\"\"\"\n",
    "    if f(a)*f(b) > 0:\n",
    "        raise ValueError(\"f(a) and f(b) must have opposite signs\")\n",
    "    \n",
    "    while RE_(b, a) > tol:\n",
    "        p1 = p_(a,b)\n",
    "        sign = sign_(a,p1)\n",
    "        RE = RE_(p1,p0)\n",
    "\n",
    "        # printing(a, p1, b, sign[1], RE)\n",
    "        result.append((a, p1, b, sign[1], RE))\n",
    "\n",
    "        if sign[0]:\n",
    "            a = p1\n",
    "        else:\n",
    "            b = p1\n",
    "        p0 = p1\n",
    "    return result"
   ]
  },
  {
   "cell_type": "code",
   "execution_count": 33,
   "id": "7f1ca138",
   "metadata": {
    "scrolled": true
   },
   "outputs": [
    {
     "data": {
      "text/plain": [
       "[(-8, -7.5, -7, '-', 0.06666666666666667),\n",
       " (-8, -7.75, -7.5, '+', 0.03225806451612903),\n",
       " (-7.75, -7.625, -7.5, '+', 0.01639344262295082),\n",
       " (-7.625, -7.5625, -7.5, '+', 0.008264462809917356),\n",
       " (-7.5625, -7.53125, -7.5, '-', 0.004149377593360996),\n",
       " (-7.5625, -7.546875, -7.53125, '-', 0.002070393374741201),\n",
       " (-7.5625, -7.5546875, -7.546875, '-', 0.001034126163391934),\n",
       " (-7.5625, -7.55859375, -7.5546875, '+', 0.0005167958656330749)]"
      ]
     },
     "execution_count": 33,
     "metadata": {},
     "output_type": "execute_result"
    }
   ],
   "source": [
    "bisect(-8,-7, -8, f)"
   ]
  },
  {
   "cell_type": "code",
   "execution_count": null,
   "id": "211b19ef",
   "metadata": {},
   "outputs": [],
   "source": []
  },
  {
   "cell_type": "code",
   "execution_count": 40,
   "id": "263aa92b",
   "metadata": {},
   "outputs": [
    {
     "name": "stdout",
     "output_type": "stream",
     "text": [
      "1 \t||\t 0 \t||\t 1.0\n",
      "2 \t||\t 1.45 \t||\t 3.45\n",
      "-3 \t||\t 5.0025 \t||\t 2.0025\n",
      "4 \t||\t 2.903625 \t||\t 6.903625\n",
      "5 \t||\t 10.01026 \t||\t 15.01026\n",
      "6 \t||\t 21.76488 \t||\t 27.76488\n",
      "7 \t||\t 40.25907 \t||\t 47.25907\n"
     ]
    }
   ],
   "source": [
    "import numpy as np\n",
    "from rounding import rounding as rnd        # rounding.py is in the same folder, its pupose is to round according to FPA\n",
    "\n",
    "\n",
    "\n",
    "# defining the function\n",
    "def fun_(x):\n",
    "    return x**6 + 2*x**5 + 3*x**4 + 4*x**3 + 5*x**2 + 6*x -7\n",
    "    #return 1 + x/5 - (2/25)*x**2 + (6/125)*x**3 - (21/625)*x**4 + (399/15625)*x**5\n",
    "\n",
    "\n",
    "# custom printing function\n",
    "def printing(a, alpb, b):\n",
    "    a = round(a, 10)\n",
    "    if alpb == 0:       # if the value is 0 and i round it it will return 1, so therefore i have to check if it is 0 and if it is i will return 0\n",
    "        alpb = 0\n",
    "    else:\n",
    "        alpb= round(alpb, 10)\n",
    "    b = round(b, 10)\n",
    "    # RE = round(RE, 10)        # since the RE gets so small that the round() takes more the starting zeros so we all we left with is some floats\n",
    "    print(a,\"\\t||\\t\", alpb,\"\\t||\\t\", b)\n",
    "\n",
    "\n",
    "\n",
    "# main function\n",
    "def horners(alpha):\n",
    "    #coef = [399/15625, -21/625, 6/125, -2/25, 1/5, 1]\n",
    "    coef = [1, 2, -3, 4, 5, 6, 7]\n",
    "    \n",
    "    b0 = 0\n",
    "    # print(coef[0],\"\\t||\\t\", 0,\"\\t||\\t\", b0)\n",
    "\n",
    "    for a in coef:\n",
    "        alpb = rnd(alpha*b0, 7)[-1]\n",
    "        b = rnd(a + alpb, 7)[-1]\n",
    "        printing(a, alpb, b)\n",
    "        b0 = b\n",
    "        \n",
    "        \n",
    "horners(1.45)\n",
    "\n"
   ]
  },
  {
   "cell_type": "code",
   "execution_count": null,
   "id": "4971e736",
   "metadata": {},
   "outputs": [],
   "source": []
  },
  {
   "cell_type": "code",
   "execution_count": 54,
   "id": "e81f44f9",
   "metadata": {},
   "outputs": [],
   "source": [
    "import numpy as np\n",
    "from rounding import rounding as rnd        # rounding.py is in the same folder, its pupose is to round according to FPA\n",
    "from sig_digits import sig_digits as sd      # sig_digits.py is in the same folder, its pupose is to find the number of significant digits\n",
    "\n",
    "\n",
    "\n",
    "# defining the RE, Relative Error\n",
    "def RE_(x1, x0):\n",
    "    return abs(abs(x1 - x0)/x1)\n",
    "\n",
    "# custom printing function\n",
    "def printing(n, x0, x1, RE):\n",
    "    x0 = round(rnd(x0, 9)[-1], 12)\n",
    "    x1 = round(rnd(x1, 9)[-1], 12)\n",
    "    # RE = rnd(RE, 7)[-1]        # since the RE gets so small that the round() takes more the starting zeros so we all we left with is some floats\n",
    "    print(n, \":\\t||\\t\" ,x0,\"\\t||\\t\", x1,\"\\t||\\t\", RE)\n",
    "\n",
    "\n",
    "# main function\n",
    "def fixed_point(x0, criterion, float_digits, func):\n",
    "    fpi_list = []\n",
    "    interations = 0\n",
    "\n",
    "    # first iteration\n",
    "    x1 = func(x0)\n",
    "    RE = RE_(round(rnd(x1, 9)[-1], 12),round(rnd(x0, 9)[-1], 12))\n",
    "    fpi_list.append((interations, x0, x1, RE))\n",
    "\n",
    "\n",
    "    # the middle iterations\n",
    "    while RE > criterion:\n",
    "        interations += 1\n",
    "        x0 = x1\n",
    "        x1 = func(x0)\n",
    "        RE = RE_(round(rnd(x1, float_digits)[-1], 12), round(rnd(x0, float_digits)[-1], 12))\n",
    "\n",
    "        fpi_list.append((interations, x0, x1, RE))\n",
    "        \n",
    "    y_ = 6*x1\n",
    "    pi = np.pi\n",
    "    RE1 = RE_(pi, y_)\n",
    "\n",
    "    fpi_list.append((f\"x={rnd(x1, float_digits)[-1]}\", f\"steps={interations+1}, y*={rnd(y_, float_digits)[-1]}, RE={RE1}, SD={sd(RE1)[2]}\"))\n",
    "    return fpi_list\n"
   ]
  },
  {
   "cell_type": "code",
   "execution_count": 55,
   "id": "63bfe23e",
   "metadata": {},
   "outputs": [],
   "source": [
    "def func(x):\n",
    "    return (x**3)/fact(3) - (x**5)/fact(5) + (x**7)/fact(7) + 1/2"
   ]
  },
  {
   "cell_type": "code",
   "execution_count": 57,
   "id": "a0d94224",
   "metadata": {
    "scrolled": true
   },
   "outputs": [
    {
     "data": {
      "text/plain": [
       "[(0, 0.5071, 0.5214557675218671, 0.027530173949480687),\n",
       " (1, 0.5214557675218671, 0.5233128214929894, 0.003548648008377272),\n",
       " (2, 0.5233128214929894, 0.523560493542687, 0.00047305326378011605),\n",
       " (3, 0.523560493542687, 0.5235936552673577, 6.333537406986149e-05),\n",
       " (4, 0.5235936552673577, 0.5235980977408445, 8.485515927180898e-06),\n",
       " (5, 0.5235980977408445, 0.523598692913617, 1.136366472818179e-06),\n",
       " (6, 0.523598692913617, 0.5235987726516189, 1.5278874625803187e-07),\n",
       " (7, 0.5235987726516189, 0.5235987833344949, 1.909859278497462e-08),\n",
       " ('x=0.523598783', 'steps=8, y*=3.1415927, RE=1.4775046254280852e-08, SD=8')]"
      ]
     },
     "execution_count": 57,
     "metadata": {},
     "output_type": "execute_result"
    }
   ],
   "source": [
    "fixed_point(0.5071, 1e-7, 9, func)"
   ]
  },
  {
   "cell_type": "code",
   "execution_count": 59,
   "id": "6d0c1a08",
   "metadata": {},
   "outputs": [],
   "source": [
    "\n",
    "def fact(n):\n",
    "    if n == 0:\n",
    "        return 1\n",
    "    else:\n",
    "        return n * fact(n-1)"
   ]
  },
  {
   "cell_type": "code",
   "execution_count": null,
   "id": "b368d673",
   "metadata": {},
   "outputs": [],
   "source": []
  },
  {
   "cell_type": "code",
   "execution_count": 90,
   "id": "a9b66016",
   "metadata": {},
   "outputs": [],
   "source": [
    "def f(x):\n",
    "    return 14*x**3 - 12*x**2 + 11*x - 4"
   ]
  },
  {
   "cell_type": "code",
   "execution_count": 51,
   "id": "d199d2fb",
   "metadata": {
    "scrolled": true
   },
   "outputs": [
    {
     "name": "stdout",
     "output_type": "stream",
     "text": [
      "enter1: x+e**(1.134*x)\n",
      "enter2: 1 + 1.134*e**(1.134*x)\n"
     ]
    },
    {
     "ename": "TypeError",
     "evalue": "can't convert expression to float",
     "output_type": "error",
     "traceback": [
      "\u001b[0;31m---------------------------------------------------------------------------\u001b[0m",
      "\u001b[0;31mTypeError\u001b[0m                                 Traceback (most recent call last)",
      "\u001b[0;32m/tmp/ipykernel_18205/3772710858.py\u001b[0m in \u001b[0;36m<module>\u001b[0;34m\u001b[0m\n\u001b[1;32m     40\u001b[0m \u001b[0mfunc_\u001b[0m \u001b[0;34m=\u001b[0m \u001b[0mlambdify\u001b[0m\u001b[0;34m(\u001b[0m\u001b[0mx\u001b[0m\u001b[0;34m,\u001b[0m \u001b[0mfunc_\u001b[0m\u001b[0;34m)\u001b[0m\u001b[0;34m\u001b[0m\u001b[0;34m\u001b[0m\u001b[0m\n\u001b[1;32m     41\u001b[0m \u001b[0;34m\u001b[0m\u001b[0m\n\u001b[0;32m---> 42\u001b[0;31m \u001b[0mnewtons\u001b[0m\u001b[0;34m(\u001b[0m\u001b[0;34m-\u001b[0m\u001b[0;36m1\u001b[0m\u001b[0;34m,\u001b[0m \u001b[0;36m1e-6\u001b[0m\u001b[0;34m,\u001b[0m \u001b[0;36m7\u001b[0m\u001b[0;34m,\u001b[0m \u001b[0mfunc\u001b[0m\u001b[0;34m,\u001b[0m \u001b[0mfunc_\u001b[0m\u001b[0;34m)\u001b[0m\u001b[0;34m\u001b[0m\u001b[0;34m\u001b[0m\u001b[0m\n\u001b[0m",
      "\u001b[0;32m/tmp/ipykernel_18205/3772710858.py\u001b[0m in \u001b[0;36mnewtons\u001b[0;34m(p0, epsilon, float_digits, func, func_)\u001b[0m\n\u001b[1;32m     25\u001b[0m     \u001b[0;32mwhile\u001b[0m \u001b[0mRE\u001b[0m \u001b[0;34m>=\u001b[0m \u001b[0mepsilon\u001b[0m\u001b[0;34m:\u001b[0m\u001b[0;34m\u001b[0m\u001b[0;34m\u001b[0m\u001b[0m\n\u001b[1;32m     26\u001b[0m         \u001b[0mp\u001b[0m \u001b[0;34m=\u001b[0m \u001b[0mg\u001b[0m\u001b[0;34m(\u001b[0m\u001b[0mfunc\u001b[0m\u001b[0;34m,\u001b[0m \u001b[0mfunc_\u001b[0m\u001b[0;34m,\u001b[0m \u001b[0mp0\u001b[0m\u001b[0;34m)\u001b[0m\u001b[0;34m\u001b[0m\u001b[0;34m\u001b[0m\u001b[0m\n\u001b[0;32m---> 27\u001b[0;31m         \u001b[0mRE\u001b[0m \u001b[0;34m=\u001b[0m \u001b[0mRE_\u001b[0m\u001b[0;34m(\u001b[0m\u001b[0mround\u001b[0m\u001b[0;34m(\u001b[0m\u001b[0mrnd\u001b[0m\u001b[0;34m(\u001b[0m\u001b[0mp\u001b[0m\u001b[0;34m,\u001b[0m \u001b[0;36m7\u001b[0m\u001b[0;34m)\u001b[0m\u001b[0;34m[\u001b[0m\u001b[0;34m-\u001b[0m\u001b[0;36m1\u001b[0m\u001b[0;34m]\u001b[0m\u001b[0;34m,\u001b[0m \u001b[0;36m10\u001b[0m\u001b[0;34m)\u001b[0m\u001b[0;34m,\u001b[0m \u001b[0mround\u001b[0m\u001b[0;34m(\u001b[0m\u001b[0mrnd\u001b[0m\u001b[0;34m(\u001b[0m\u001b[0mp0\u001b[0m\u001b[0;34m,\u001b[0m \u001b[0;36m7\u001b[0m\u001b[0;34m)\u001b[0m\u001b[0;34m[\u001b[0m\u001b[0;34m-\u001b[0m\u001b[0;36m1\u001b[0m\u001b[0;34m]\u001b[0m\u001b[0;34m,\u001b[0m \u001b[0;36m10\u001b[0m\u001b[0;34m)\u001b[0m\u001b[0;34m)\u001b[0m\u001b[0;34m\u001b[0m\u001b[0;34m\u001b[0m\u001b[0m\n\u001b[0m\u001b[1;32m     28\u001b[0m         \u001b[0mresult_list\u001b[0m\u001b[0;34m.\u001b[0m\u001b[0mappend\u001b[0m\u001b[0;34m(\u001b[0m\u001b[0;34m(\u001b[0m\u001b[0mn\u001b[0m\u001b[0;34m,\u001b[0m \u001b[0mround\u001b[0m\u001b[0;34m(\u001b[0m\u001b[0mrnd\u001b[0m\u001b[0;34m(\u001b[0m\u001b[0mp0\u001b[0m\u001b[0;34m,\u001b[0m \u001b[0mfloat_digits\u001b[0m\u001b[0;34m)\u001b[0m\u001b[0;34m[\u001b[0m\u001b[0;34m-\u001b[0m\u001b[0;36m1\u001b[0m\u001b[0;34m]\u001b[0m\u001b[0;34m,\u001b[0m \u001b[0;36m10\u001b[0m\u001b[0;34m)\u001b[0m\u001b[0;34m,\u001b[0m \u001b[0mround\u001b[0m\u001b[0;34m(\u001b[0m\u001b[0mrnd\u001b[0m\u001b[0;34m(\u001b[0m\u001b[0mp\u001b[0m\u001b[0;34m,\u001b[0m \u001b[0mfloat_digits\u001b[0m\u001b[0;34m)\u001b[0m\u001b[0;34m[\u001b[0m\u001b[0;34m-\u001b[0m\u001b[0;36m1\u001b[0m\u001b[0;34m]\u001b[0m\u001b[0;34m,\u001b[0m \u001b[0;36m10\u001b[0m\u001b[0;34m)\u001b[0m\u001b[0;34m,\u001b[0m \u001b[0mRE\u001b[0m\u001b[0;34m)\u001b[0m\u001b[0;34m)\u001b[0m\u001b[0;34m\u001b[0m\u001b[0;34m\u001b[0m\u001b[0m\n\u001b[1;32m     29\u001b[0m         \u001b[0mp0\u001b[0m \u001b[0;34m=\u001b[0m \u001b[0mp\u001b[0m\u001b[0;34m\u001b[0m\u001b[0;34m\u001b[0m\u001b[0m\n",
      "\u001b[0;32m~/Documents/books/login/myproject/rounding.py\u001b[0m in \u001b[0;36mrounding\u001b[0;34m(num, fpa)\u001b[0m\n\u001b[1;32m      1\u001b[0m \u001b[0;32mdef\u001b[0m \u001b[0mrounding\u001b[0m\u001b[0;34m(\u001b[0m\u001b[0mnum\u001b[0m\u001b[0;34m,\u001b[0m \u001b[0mfpa\u001b[0m\u001b[0;34m)\u001b[0m\u001b[0;34m:\u001b[0m\u001b[0;34m\u001b[0m\u001b[0;34m\u001b[0m\u001b[0m\n\u001b[1;32m      2\u001b[0m     \u001b[0mfpa\u001b[0m\u001b[0;34m=\u001b[0m\u001b[0mint\u001b[0m\u001b[0;34m(\u001b[0m\u001b[0mfpa\u001b[0m\u001b[0;34m)\u001b[0m\u001b[0;34m\u001b[0m\u001b[0;34m\u001b[0m\u001b[0m\n\u001b[0;32m----> 3\u001b[0;31m     \u001b[0mnum\u001b[0m \u001b[0;34m=\u001b[0m \u001b[0mfloat\u001b[0m\u001b[0;34m(\u001b[0m\u001b[0mnum\u001b[0m\u001b[0;34m)\u001b[0m\u001b[0;34m\u001b[0m\u001b[0;34m\u001b[0m\u001b[0m\n\u001b[0m\u001b[1;32m      4\u001b[0m     \u001b[0mnum1\u001b[0m \u001b[0;34m=\u001b[0m \u001b[0mnum\u001b[0m \u001b[0;34m*\u001b[0m \u001b[0;36m1e-10\u001b[0m\u001b[0;34m\u001b[0m\u001b[0;34m\u001b[0m\u001b[0m\n\u001b[1;32m      5\u001b[0m \u001b[0;34m\u001b[0m\u001b[0m\n",
      "\u001b[0;32m/usr/lib/python3/dist-packages/sympy/core/expr.py\u001b[0m in \u001b[0;36m__float__\u001b[0;34m(self)\u001b[0m\n\u001b[1;32m    357\u001b[0m         \u001b[0;32mif\u001b[0m \u001b[0mresult\u001b[0m\u001b[0;34m.\u001b[0m\u001b[0mis_number\u001b[0m \u001b[0;32mand\u001b[0m \u001b[0mresult\u001b[0m\u001b[0;34m.\u001b[0m\u001b[0mas_real_imag\u001b[0m\u001b[0;34m(\u001b[0m\u001b[0;34m)\u001b[0m\u001b[0;34m[\u001b[0m\u001b[0;36m1\u001b[0m\u001b[0;34m]\u001b[0m\u001b[0;34m:\u001b[0m\u001b[0;34m\u001b[0m\u001b[0;34m\u001b[0m\u001b[0m\n\u001b[1;32m    358\u001b[0m             \u001b[0;32mraise\u001b[0m \u001b[0mTypeError\u001b[0m\u001b[0;34m(\u001b[0m\u001b[0;34m\"can't convert complex to float\"\u001b[0m\u001b[0;34m)\u001b[0m\u001b[0;34m\u001b[0m\u001b[0;34m\u001b[0m\u001b[0m\n\u001b[0;32m--> 359\u001b[0;31m         \u001b[0;32mraise\u001b[0m \u001b[0mTypeError\u001b[0m\u001b[0;34m(\u001b[0m\u001b[0;34m\"can't convert expression to float\"\u001b[0m\u001b[0;34m)\u001b[0m\u001b[0;34m\u001b[0m\u001b[0;34m\u001b[0m\u001b[0m\n\u001b[0m\u001b[1;32m    360\u001b[0m \u001b[0;34m\u001b[0m\u001b[0m\n\u001b[1;32m    361\u001b[0m     \u001b[0;32mdef\u001b[0m \u001b[0m__complex__\u001b[0m\u001b[0;34m(\u001b[0m\u001b[0mself\u001b[0m\u001b[0;34m)\u001b[0m\u001b[0;34m:\u001b[0m\u001b[0;34m\u001b[0m\u001b[0;34m\u001b[0m\u001b[0m\n",
      "\u001b[0;31mTypeError\u001b[0m: can't convert expression to float"
     ]
    }
   ],
   "source": [
    "import numpy as np\n",
    "from rounding import rounding as rnd\n",
    "import torch\n",
    "from sympy import *\n",
    "import math\n",
    "\n",
    "\n",
    "\n",
    "# defining the RE, Relative Error\n",
    "def RE_(x1, x0):\n",
    "    return abs((x1 - x0)/x1)\n",
    "    \n",
    "# the iteration function, g(x) = x - f(x) / f'(x)\n",
    "def g(f, f_, m):\n",
    "    return m - ( f(m) / f_(m) )\n",
    "\n",
    "    \n",
    "\n",
    "# main function\n",
    "def newtons(p0, epsilon, float_digits, func, func_):\n",
    "    result_list=[]\n",
    "    RE = 1\n",
    "    n = 1\n",
    "    \n",
    "    while RE >= epsilon:\n",
    "        p = g(func, func_, p0)\n",
    "        RE = RE_(round(rnd(p, 7)[-1], 10), round(rnd(p0, 7)[-1], 10))\n",
    "        result_list.append((n, round(rnd(p0, float_digits)[-1], 10), round(rnd(p, float_digits)[-1], 10), RE))\n",
    "        p0 = p\n",
    "        n += 1\n",
    "    \n",
    "    result_list.append(('Approximation of the fixed point is', rnd(p, 7)[-1]))\n",
    "    return result_list\n",
    "\n",
    "x = symbols('x')\n",
    "func = sympify(input(\"enter1: \"))\n",
    "func_ = sympify(input(\"enter2: \"))\n",
    "\n",
    "func = lambdify(x, func)\n",
    "func_ = lambdify(x, func_)\n",
    "\n",
    "newtons(-1, 1e-6, 7, func, func_)"
   ]
  },
  {
   "cell_type": "code",
   "execution_count": 37,
   "id": "a62fa9e1",
   "metadata": {},
   "outputs": [
    {
     "data": {
      "text/plain": [
       "[(1, 1.5, 2.25, 0.3333333333333333),\n",
       " (2, 2.25, 2.025, 0.11111111111111116),\n",
       " (3, 2.025, 2.000305, 0.012345617293362718),\n",
       " (4, 2.000305, 2.0, 0.00015249999999999986),\n",
       " (5, 2.0, 2.0, 0.0),\n",
       " ('Approximation of the fixed point is', 2.0)]"
      ]
     },
     "execution_count": 37,
     "metadata": {},
     "output_type": "execute_result"
    }
   ],
   "source": [
    "def f(x):\n",
    "    return (x-1)**2 -1\n",
    "def f_(x):\n",
    "    return 2*x -2\n",
    "newtons(1.5, 1e-6, 7, f, f_)"
   ]
  },
  {
   "cell_type": "code",
   "execution_count": 50,
   "id": "0feb6e89",
   "metadata": {},
   "outputs": [
    {
     "name": "stdout",
     "output_type": "stream",
     "text": [
      "11.660061358346903\n"
     ]
    }
   ],
   "source": [
    "from sympy import symbols, exp, diff, lambdify\n",
    "\n",
    "x = symbols('x')\n",
    "f = \"x + exp(1.134*x)\"\n",
    "\n",
    "#f_derivative = diff(f, x)\n",
    "\n",
    "func = lambdify(x, f)\n",
    "\n",
    "# Input value\n",
    "input_value = 2\n",
    "\n",
    "# Evaluate the function at the input value\n",
    "result = func(input_value)\n",
    "\n",
    "print(result)\n"
   ]
  },
  {
   "cell_type": "code",
   "execution_count": 49,
   "id": "fb0c779f",
   "metadata": {},
   "outputs": [
    {
     "data": {
      "text/plain": [
       "33.02408821566401"
      ]
     },
     "execution_count": 49,
     "metadata": {},
     "output_type": "execute_result"
    }
   ],
   "source": [
    "func(3)"
   ]
  },
  {
   "cell_type": "code",
   "execution_count": 67,
   "id": "9b88e161",
   "metadata": {},
   "outputs": [],
   "source": []
  },
  {
   "cell_type": "code",
   "execution_count": 103,
   "id": "8bb8d3af",
   "metadata": {},
   "outputs": [],
   "source": [
    "def f(x):\n",
    "    return x*np.sin(0.34*x) - 0.17\n"
   ]
  },
  {
   "cell_type": "code",
   "execution_count": 101,
   "id": "390d4eed",
   "metadata": {},
   "outputs": [
    {
     "data": {
      "text/plain": [
       "[(1, 1.0, 0.8, 0.7242128, 0.10464769471072599),\n",
       " (2, 0.8, 0.7242128, 0.7113283, 0.01811329592819513),\n",
       " (3, 0.7242128, 0.7113283, 0.7105682, 0.0010697073131052605),\n",
       " (4, 0.7113283, 0.7105682, 0.7105612, 9.851368186131251e-06),\n",
       " (5, 0.7105682, 0.7105612, 0.7105612, 0.0),\n",
       " ('Approximation of the root is', 0.7105612)]"
      ]
     },
     "execution_count": 101,
     "metadata": {},
     "output_type": "execute_result"
    }
   ],
   "source": [
    "from rounding import rounding as rnd\n",
    "\n",
    "\n",
    "def RE_(x1, x0):\n",
    "    return abs((x1 - x0)/x1)\n",
    "\n",
    "def secant(x0, x1, epsilon):\n",
    "    secant_list=[]\n",
    "    RE = 1\n",
    "    n = 1\n",
    "    while RE >= epsilon:\n",
    "        x2 = x1 - f(x1) * (x1 - x0) / (f(x1) - f(x0))\n",
    "        RE = RE_(round(rnd(x2, 7)[-1], 10), round(rnd(x1, 7)[-1], 10))\n",
    "        \n",
    "        secant_list.append((n, round(rnd(x0, 7)[-1], 10), round(rnd(x1, 7)[-1], 10), round(rnd(x2, 7)[-1], 10), RE))\n",
    "        x0 = x1\n",
    "        x1 = x2\n",
    "        n += 1\n",
    "\n",
    "    secant_list.append(('Approximation of the root is', round(rnd(x2, 7)[-1], 10)))\n",
    "    return secant_list\n",
    "\n",
    "secant( 1, 0.8, 1e-6)"
   ]
  },
  {
   "cell_type": "code",
   "execution_count": 107,
   "id": "9178b417",
   "metadata": {},
   "outputs": [
    {
     "name": "stdout",
     "output_type": "stream",
     "text": [
      "enter: (x-sin(x)) / (1-cos(x)) - 0.69\n",
      "\n",
      "simplified_expr:  (-x + sin(x) - 0.69*cos(x) + 0.69)/(cos(x) - 1)\n",
      "original:  -0.69 + (x - sin(x))/(1 - cos(x))\n"
     ]
    }
   ],
   "source": [
    "from sympy import *\n",
    "\n",
    "# Define the input expression\n",
    "expr_str = input(\"enter: \")\n",
    "\n",
    "# Create a symbol for the variable\n",
    "x = symbols('x')\n",
    "\n",
    "# Convert the string expression to a symbolic expression\n",
    "expr = sympify(expr_str)\n",
    "\n",
    "# Perform operations on the expression\n",
    "simplified_expr = expr.simplify()\n",
    "\n",
    "print(\"\\nsimplified_expr: \",simplified_expr)  # Output: 1\n",
    "print(\"original: \",expr)\n"
   ]
  },
  {
   "cell_type": "code",
   "execution_count": null,
   "id": "59bd581f",
   "metadata": {},
   "outputs": [],
   "source": []
  },
  {
   "cell_type": "code",
   "execution_count": 109,
   "id": "19e6f956",
   "metadata": {},
   "outputs": [],
   "source": [
    "\n",
    "def f(x):\n",
    "    # return x - np.sin(4.221*x+2.139) + 4.221\n",
    "    return x * np.sin(1/x) + 0.06044"
   ]
  },
  {
   "cell_type": "code",
   "execution_count": 125,
   "id": "22919153",
   "metadata": {
    "scrolled": true
   },
   "outputs": [
    {
     "data": {
      "text/plain": [
       "[(1,\n",
       "  0.06,\n",
       "  0.068438,\n",
       "  0.09,\n",
       "  '1.133320e-02',\n",
       "  '1.213140e-01',\n",
       "  '1.374870e-03',\n",
       "  '1.232941e-01'),\n",
       " (2,\n",
       "  0.068438,\n",
       "  0.0858447,\n",
       "  0.09,\n",
       "  '1.213140e-01',\n",
       "  '-7.724220e-03',\n",
       "  '-9.370570e-04',\n",
       "  '2.027697e-01'),\n",
       " (3,\n",
       "  0.068438,\n",
       "  0.0848027,\n",
       "  0.0858447,\n",
       "  '1.213140e-01',\n",
       "  '1.144620e-03',\n",
       "  '1.388580e-04',\n",
       "  '1.228734e-02'),\n",
       " (4,\n",
       "  0.0848027,\n",
       "  0.0849372,\n",
       "  0.0858447,\n",
       "  '1.144620e-03',\n",
       "  '-7.266490e-05',\n",
       "  '-8.317350e-08',\n",
       "  '1.583523e-03'),\n",
       " (5,\n",
       "  0.0848027,\n",
       "  0.0849292,\n",
       "  0.0849372,\n",
       "  '1.144620e-03',\n",
       "  '-5.872210e-07',\n",
       "  '-6.721440e-10',\n",
       "  '9.419611e-05'),\n",
       " ('Approximation of the root is', 0.0849292)]"
      ]
     },
     "execution_count": 125,
     "metadata": {},
     "output_type": "execute_result"
    }
   ],
   "source": [
    "from rounding import rounding as rnd\n",
    "import numpy as np\n",
    "\n",
    "\n",
    "\n",
    "def RE_(x1, x0):\n",
    "    return abs((x1 - x0)/x1)\n",
    "\n",
    "\n",
    "def xINT(a, b):\n",
    "    return a - (f(a) * (a - b) / (f(a) - f(b)))\n",
    "\n",
    "\n",
    "def regular_falsi(a, b, epsilon, float_digits, f):\n",
    "    rf_list=[]\n",
    "    RE=1\n",
    "    n=1\n",
    "    p0=a\n",
    "    p=a\n",
    "\n",
    "    # while RE >= epsilon:\n",
    "    while abs(f(p)) >= epsilon:\n",
    "\n",
    "        p = xINT(a, b)\n",
    "        RE = RE_(round(rnd(p, float_digits)[-1], 10), round(rnd(p0, float_digits)[-1], 10))\n",
    "\n",
    "        rf_list.append((n, round(rnd(a, float_digits)[-1], 10), round(rnd(p, float_digits)[-1], 10), round(rnd(b, float_digits)[-1], 10), f\"{rnd(f(a), float_digits)[-1]:.{float_digits}e}\", f\"{rnd(f(p), float_digits)[-1]:.{float_digits}e}\", f\"{rnd(f(a)*f(p), float_digits)[-1]:.{float_digits}e}\", f\"{RE:.{float_digits}e}\"))\n",
    "\n",
    "        Hot_Cold = f(a) * f(p)\n",
    "        if Hot_Cold < 0:\n",
    "            b = p\n",
    "            p0 = p\n",
    "        else:\n",
    "            a = p\n",
    "            p0 = p\n",
    "        n += 1\n",
    "\n",
    "    rf_list.append(('Approximation of the root is', round(rnd(p, 6)[-1], 10)))\n",
    "    return rf_list\n",
    "\n",
    "# regular_falsi( -5, -1, 1e-6)\n",
    "regular_falsi( 0.06, 0.09, 1e-5, 6, f)"
   ]
  },
  {
   "cell_type": "code",
   "execution_count": null,
   "id": "e224c590",
   "metadata": {},
   "outputs": [],
   "source": []
  },
  {
   "cell_type": "code",
   "execution_count": 116,
   "id": "20b8e82f",
   "metadata": {},
   "outputs": [
    {
     "name": "stdout",
     "output_type": "stream",
     "text": [
      "1.144620e-03\n",
      "1e-03\n"
     ]
    }
   ],
   "source": [
    "number = 0.00114462\n",
    "\n",
    "formatted_number = \"{:.6e}\".format(number)\n",
    "print(formatted_number)  # Output: 1e-03\n",
    "\n",
    "formatted_number_fstring = f\"{number:.0e}\"\n",
    "print(formatted_number_fstring)  # Output: 1e-03\n"
   ]
  },
  {
   "cell_type": "code",
   "execution_count": 1,
   "id": "10545bf4",
   "metadata": {},
   "outputs": [],
   "source": [
    "\n",
    "def f(x):\n",
    "    return x**2 - 0.17*(x**(1/2)) - 1.22"
   ]
  },
  {
   "cell_type": "code",
   "execution_count": 8,
   "id": "3c0c4c52",
   "metadata": {},
   "outputs": [
    {
     "name": "stdout",
     "output_type": "stream",
     "text": [
      "enter: x**2 - e*(x**(1/2)) - 1.22\n"
     ]
    },
    {
     "data": {
      "text/plain": [
       "[('Alpha = ', '-2.38416e+00'),\n",
       " (1, '2.00000e+00', '2.25731e+00', '1.13990e-01'),\n",
       " (2, '2.25731e+00', '2.30454e+00', '2.04943e-02'),\n",
       " (3, '2.30454e+00', '2.31252e+00', '3.44647e-03'),\n",
       " (4, '2.31252e+00', '2.31384e+00', '5.74802e-04'),\n",
       " (5, '2.31384e+00', '2.31407e+00', '9.50710e-05'),\n",
       " (6, '2.31407e+00', '2.31410e+00', '1.72853e-05'),\n",
       " (7, '2.31410e+00', '2.31411e+00', '4.32132e-06'),\n",
       " ('Approximation of the root is', 2.31411)]"
      ]
     },
     "execution_count": 8,
     "metadata": {},
     "output_type": "execute_result"
    }
   ],
   "source": [
    "from rounding import rounding as rnd\n",
    "import numpy as np\n",
    "import torch\n",
    "import math\n",
    "\n",
    "\n",
    "def G_b(x, b, f):\n",
    "    return (b*f(x) - x*f(b)) / (f(x) - f(b))\n",
    "\n",
    "def G_a(x, a, f):\n",
    "    return (a*f(x) - x*f(a)) / (f(x) - f(a))\n",
    "\n",
    "def RE_(x1, x0):\n",
    "    return abs((x1 - x0)/x1)\n",
    "\n",
    "\n",
    "def falsi_fpi(a,b, epsilon, float_digits, func):\n",
    "    falsi_fpi_results=[]\n",
    "    n=0\n",
    "    RE = 1\n",
    "    \n",
    "    x = torch.tensor(float(a), requires_grad=True)\n",
    "    df_dx = torch.autograd.grad(func(x), x, create_graph=True)[0]\n",
    "    df_dx_2 = torch.autograd.grad(df_dx, x)[0]\n",
    "\n",
    "    alpha = func(a)*df_dx_2.item()\n",
    "    falsi_fpi_results.append(('Alpha = ', f\"{alpha:.{float_digits-1}e}\"))\n",
    "\n",
    "    if alpha < 0:\n",
    "        p0=a\n",
    "        while RE >= epsilon:\n",
    "            n+=1\n",
    "            p=G_b(p0, b, func)\n",
    "            RE = RE_(round(rnd(p, float_digits)[-1], 15), round(rnd(p0, float_digits)[-1], 15))\n",
    "            falsi_fpi_results.append((n, f\"{p0:.{float_digits-1}e}\", f\"{p:.{float_digits-1}e}\", f\"{RE:.{float_digits-1}e}\"))\n",
    "            p0=p\n",
    "            # use G_b\n",
    "\n",
    "    else:\n",
    "        p0=b\n",
    "        while RE >= epsilon:\n",
    "            n+=1\n",
    "            p=G_a(p0, a, func)\n",
    "            RE = RE_(round(rnd(p, float_digits)[-1], 15), round(rnd(p0, float_digits)[-1], 15))\n",
    "            falsi_fpi_results.append((n, f\"{p0:.{float_digits-1}e}\", f\"{p:.{float_digits-1}e}\", f\"{RE:.{float_digits-1}e}\"))\n",
    "            p0=p\n",
    "            # use G_a\n",
    "\n",
    "    falsi_fpi_results.append(('Approximation of the root is', round(rnd(p, 6)[-1], 10)))\n",
    "    return falsi_fpi_results\n",
    "\n",
    "exp=input(\"enter: \")\n",
    "def text_to_function(expression):\n",
    "    def function(x):\n",
    "        return eval(expression, {'__builtins__': None}, {'x': x, 'pi': math.pi, 'e': math.e})\n",
    "    return function\n",
    "f=text_to_function(exp)\n",
    "\n",
    "(falsi_fpi(2,3,1e-5, 6, f))"
   ]
  },
  {
   "cell_type": "markdown",
   "id": "c7b327ea",
   "metadata": {},
   "source": [
    "Alpha =  -0.796575\n",
    "1 :\t||\t 1.0 \t||\t 1.13312 \t||\t 0.11748093758825183\n",
    "2 :\t||\t 1.13312 \t||\t 1.1713 \t||\t 0.03259626056518407\n",
    "3 :\t||\t 1.1713 \t||\t 1.18162 \t||\t 0.008733772278735875\n",
    "4 :\t||\t 1.18162 \t||\t 1.18437 \t||\t 0.002321909538404409\n",
    "5 :\t||\t 1.18437 \t||\t 1.1851 \t||\t 0.0006159817736900847\n",
    "6 :\t||\t 1.1851 \t||\t 1.18529 \t||\t 0.00016029832361693128\n",
    "7 :\t||\t 1.18529 \t||\t 1.18535 \t||\t 5.0617960939763776e-05\n",
    "8 :\t||\t 1.18535 \t||\t 1.18536 \t||\t 8.436255652346556e-06\n",
    "Approximation of the root is 1.18536"
   ]
  },
  {
   "cell_type": "code",
   "execution_count": 5,
   "id": "7fe7cf13",
   "metadata": {},
   "outputs": [
    {
     "name": "stdout",
     "output_type": "stream",
     "text": [
      "enter: x**2 - e*(x**(1/2)) - 1.22\n"
     ]
    },
    {
     "ename": "NameError",
     "evalue": "name 'e' is not defined",
     "output_type": "error",
     "traceback": [
      "\u001b[0;31m---------------------------------------------------------------------------\u001b[0m",
      "\u001b[0;31mNameError\u001b[0m                                 Traceback (most recent call last)",
      "\u001b[0;32m/tmp/ipykernel_13081/3617688683.py\u001b[0m in \u001b[0;36m<module>\u001b[0;34m\u001b[0m\n\u001b[1;32m     10\u001b[0m \u001b[0;31m# Evaluate the function for a specific value of x\u001b[0m\u001b[0;34m\u001b[0m\u001b[0;34m\u001b[0m\u001b[0m\n\u001b[1;32m     11\u001b[0m \u001b[0mx_value\u001b[0m \u001b[0;34m=\u001b[0m \u001b[0;36m2\u001b[0m\u001b[0;34m\u001b[0m\u001b[0;34m\u001b[0m\u001b[0m\n\u001b[0;32m---> 12\u001b[0;31m \u001b[0mresult\u001b[0m \u001b[0;34m=\u001b[0m \u001b[0mfunction\u001b[0m\u001b[0;34m(\u001b[0m\u001b[0mx_value\u001b[0m\u001b[0;34m)\u001b[0m\u001b[0;34m\u001b[0m\u001b[0;34m\u001b[0m\u001b[0m\n\u001b[0m\u001b[1;32m     13\u001b[0m \u001b[0mprint\u001b[0m\u001b[0;34m(\u001b[0m\u001b[0mresult\u001b[0m\u001b[0;34m)\u001b[0m  \u001b[0;31m# Output: 9\u001b[0m\u001b[0;34m\u001b[0m\u001b[0;34m\u001b[0m\u001b[0m\n",
      "\u001b[0;32m/tmp/ipykernel_13081/3617688683.py\u001b[0m in \u001b[0;36mfunction\u001b[0;34m(x)\u001b[0m\n\u001b[1;32m      1\u001b[0m \u001b[0;32mdef\u001b[0m \u001b[0mtext_to_function\u001b[0m\u001b[0;34m(\u001b[0m\u001b[0mexpression\u001b[0m\u001b[0;34m)\u001b[0m\u001b[0;34m:\u001b[0m\u001b[0;34m\u001b[0m\u001b[0;34m\u001b[0m\u001b[0m\n\u001b[1;32m      2\u001b[0m     \u001b[0;32mdef\u001b[0m \u001b[0mfunction\u001b[0m\u001b[0;34m(\u001b[0m\u001b[0mx\u001b[0m\u001b[0;34m)\u001b[0m\u001b[0;34m:\u001b[0m\u001b[0;34m\u001b[0m\u001b[0;34m\u001b[0m\u001b[0m\n\u001b[0;32m----> 3\u001b[0;31m         \u001b[0;32mreturn\u001b[0m \u001b[0meval\u001b[0m\u001b[0;34m(\u001b[0m\u001b[0mexpression\u001b[0m\u001b[0;34m)\u001b[0m\u001b[0;34m\u001b[0m\u001b[0;34m\u001b[0m\u001b[0m\n\u001b[0m\u001b[1;32m      4\u001b[0m     \u001b[0;32mreturn\u001b[0m \u001b[0mfunction\u001b[0m\u001b[0;34m\u001b[0m\u001b[0;34m\u001b[0m\u001b[0m\n\u001b[1;32m      5\u001b[0m \u001b[0;34m\u001b[0m\u001b[0m\n",
      "\u001b[0;32m<string>\u001b[0m in \u001b[0;36m<module>\u001b[0;34m\u001b[0m\n",
      "\u001b[0;31mNameError\u001b[0m: name 'e' is not defined"
     ]
    }
   ],
   "source": [
    "def text_to_function(expression):\n",
    "    def function(x):\n",
    "        return eval(expression)\n",
    "    return function\n",
    "\n",
    "# Example usage\n",
    "expression = input(\"enter: \")\n",
    "function = text_to_function(expression)\n",
    "\n",
    "# Evaluate the function for a specific value of x\n",
    "x_value = 2\n",
    "result = function(x_value)\n",
    "print(result)  # Output: 9\n"
   ]
  },
  {
   "cell_type": "code",
   "execution_count": null,
   "id": "ab9324b9",
   "metadata": {},
   "outputs": [],
   "source": []
  },
  {
   "cell_type": "code",
   "execution_count": 57,
   "id": "51c6110e",
   "metadata": {},
   "outputs": [],
   "source": [
    "x = symbols('x')\n",
    "func = sympify(\"x+exp(1.134*x)\")\n",
    "func_ = sympify(\"1 + 1.134*exp(1.134*x)\")\n",
    "\n",
    "func = lambdify(x, func)\n",
    "func_ = lambdify(x, func_)"
   ]
  },
  {
   "cell_type": "code",
   "execution_count": 58,
   "id": "fa1e6192",
   "metadata": {},
   "outputs": [
    {
     "data": {
      "text/plain": [
       "4.108063924430594"
      ]
     },
     "execution_count": 58,
     "metadata": {},
     "output_type": "execute_result"
    }
   ],
   "source": [
    "func(1)"
   ]
  },
  {
   "cell_type": "code",
   "execution_count": null,
   "id": "c569e733",
   "metadata": {},
   "outputs": [],
   "source": []
  }
 ],
 "metadata": {
  "kernelspec": {
   "display_name": "Python 3 (ipykernel)",
   "language": "python",
   "name": "python3"
  },
  "language_info": {
   "codemirror_mode": {
    "name": "ipython",
    "version": 3
   },
   "file_extension": ".py",
   "mimetype": "text/x-python",
   "name": "python",
   "nbconvert_exporter": "python",
   "pygments_lexer": "ipython3",
   "version": "3.10.6"
  }
 },
 "nbformat": 4,
 "nbformat_minor": 5
}
