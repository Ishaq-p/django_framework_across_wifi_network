{
 "cells": [
  {
   "cell_type": "markdown",
   "id": "802fe834",
   "metadata": {},
   "source": [
    "<style>\n",
    "  .left-align {\n",
    "    float: right;\n",
    "  }\n",
    "</style>\n",
    "\n",
    "<a href=\"#\" class=\"left-align\">Link Text</a>\n"
   ]
  },
  {
   "cell_type": "markdown",
   "id": "25a8a84e",
   "metadata": {},
   "source": [
    "<style>\n",
    "  .left-align {\n",
    "    display: flex;\n",
    "    justify-content: flex-start;\n",
    "  }\n",
    "</style>\n",
    "\n",
    "<a href=\"#\" class=\"left-align\">Link Text</a>\n"
   ]
  },
  {
   "cell_type": "markdown",
   "id": "72043d06",
   "metadata": {},
   "source": [
    "<style>\n",
    "  .left-align {\n",
    "    display: grid;\n",
    "    justify-items: start;\n",
    "  }\n",
    "</style>\n",
    "\n",
    "<a href=\"#\" class=\"left-align\">Link Text</a>\n"
   ]
  },
  {
   "cell_type": "code",
   "execution_count": null,
   "id": "ca63d28c",
   "metadata": {},
   "outputs": [],
   "source": []
  },
  {
   "cell_type": "code",
   "execution_count": null,
   "id": "0506fbae",
   "metadata": {},
   "outputs": [],
   "source": []
  },
  {
   "cell_type": "markdown",
   "id": "95e33daf",
   "metadata": {},
   "source": [
    "<h1>File Uploaded Successfully!</h1>\n",
    "\n",
    "    \n",
    "   <img src=\"Snapchat-269265218.jpg\" alt=\"{{ uploaded_file }}\">\n"
   ]
  },
  {
   "cell_type": "code",
   "execution_count": null,
   "id": "eba81297",
   "metadata": {},
   "outputs": [],
   "source": []
  }
 ],
 "metadata": {
  "kernelspec": {
   "display_name": "Python 3 (ipykernel)",
   "language": "python",
   "name": "python3"
  },
  "language_info": {
   "codemirror_mode": {
    "name": "ipython",
    "version": 3
   },
   "file_extension": ".py",
   "mimetype": "text/x-python",
   "name": "python",
   "nbconvert_exporter": "python",
   "pygments_lexer": "ipython3",
   "version": "3.10.6"
  }
 },
 "nbformat": 4,
 "nbformat_minor": 5
}
